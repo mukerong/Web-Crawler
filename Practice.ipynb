{
 "cells": [
  {
   "cell_type": "markdown",
   "metadata": {},
   "source": [
    "# Using urllib & json to get info through API"
   ]
  },
  {
   "cell_type": "code",
   "execution_count": 1,
   "metadata": {
    "collapsed": true
   },
   "outputs": [],
   "source": [
    "import urllib.request as urlrequest\n",
    "import json"
   ]
  },
  {
   "cell_type": "markdown",
   "metadata": {},
   "source": [
    "## To get the single data point"
   ]
  },
  {
   "cell_type": "code",
   "execution_count": 2,
   "metadata": {},
   "outputs": [
    {
     "name": "stdout",
     "output_type": "stream",
     "text": [
      "{\"rating\": {\"max\": 10, \"average\": \"9.1\", \"numRaters\": 418652, \"min\": 0}, \"author\": [{\"name\": \"涅提·蒂瓦里 Nitesh Tiwari\"}], \"alt_title\": \"摔跤吧！爸爸 \\/ 我和我的冠军女儿(台)\", \"image\": \"https://img3.doubanio.com\\/view\\/photo\\/s_ratio_poster\\/public\\/p2457983084.jpg\", \"title\": \"Dangal\", \"summary\": \"马哈维亚（阿米尔·汗 Aamir Khan 饰）曾经是一名前途无量的摔跤运动员，在放弃了职业生涯后，他最大的遗憾就是没有能够替国家赢得金牌。马哈维亚将这份希望寄托在了尚未出生的儿子身上，哪知道妻子接连给他生了两个女儿，取名吉塔（法缇玛·萨那·纱卡 Fatima Sana Shaikh 饰）和巴比塔（桑亚·玛荷塔 Sanya Malhotra 饰）。让马哈维亚没有想到的是，两个姑娘展现出了杰出的摔跤天赋，让他幡然醒悟，就算是女孩，也能够昂首挺胸的站在比赛场上，为了国家和她们自己赢得荣誉。\n",
      "就这样，在马哈维亚的指导下，吉塔和巴比塔开始了艰苦的训练，两人进步神速，很快就因为在比赛中连连获胜而成为了当地的名人。为了获得更多的机会，吉塔进入了国家体育学院学习，在那里，她将面对更大的诱惑和更多的选择。\", \"attrs\": {\"language\": [\"印地语\"], \"pubdate\": [\"2016-12-23(印度)\", \"2017-05-05(中国大陆)\"], \"title\": [\"Dangal\"], \"country\": [\"印度\"], \"writer\": [\"比于什·古普塔 Piyush Gupta\", \"施热亚·简 Shreyas Jain\"], \"director\": [\"涅提·蒂瓦里 Nitesh Tiwari\"], \"cast\": [\"阿米尔·汗 Aamir Khan\", \"法缇玛·萨那·纱卡 Fatima Sana Shaikh\", \"桑亚·玛荷塔 Sanya Malhotra\", \"阿帕尔夏克提·库拉那 Aparshakti Khurana\", \"沙克希·坦沃 Sakshi Tanwar\", \"泽伊拉·沃西姆 Zaira Wasim\", \"苏哈妮·巴特纳格尔 Suhani Bhatnagar\", \"里特维克·萨霍里 Ritwik Sahore\", \"吉里什·库卡尼 Girish Kulkarni\"], \"movie_duration\": [\"161分钟(印度)\", \"140分钟(中国大陆)\"], \"year\": [\"2016\"], \"movie_type\": [\"剧情\", \"传记\", \"运动\"]}, \"id\": \"https:\\/\\/api.douban.com\\/movie\\/26387939\", \"mobile_link\": \"https:\\/\\/m.douban.com\\/movie\\/subject\\/26387939\\/\", \"alt\": \"https:\\/\\/movie.douban.com\\/movie\\/26387939\", \"tags\": [{\"count\": 96413, \"name\": \"励志\"}, {\"count\": 88117, \"name\": \"印度\"}, {\"count\": 58436, \"name\": \"成长\"}, {\"count\": 55145, \"name\": \"亲情\"}, {\"count\": 45168, \"name\": \"体育\"}, {\"count\": 44037, \"name\": \"女权\"}, {\"count\": 40584, \"name\": \"女性\"}, {\"count\": 39067, \"name\": \"运动\"}]}\n"
     ]
    }
   ],
   "source": [
    "url_visit = 'https://api.douban.com/v2/movie/26387939'\n",
    "crawl_content = urlrequest.urlopen(url_visit).read()\n",
    "print(crawl_content.decode('unicode-escape'))"
   ]
  },
  {
   "cell_type": "code",
   "execution_count": 3,
   "metadata": {},
   "outputs": [
    {
     "data": {
      "text/plain": [
       "'9.1'"
      ]
     },
     "execution_count": 3,
     "metadata": {},
     "output_type": "execute_result"
    }
   ],
   "source": [
    "json_content = json.loads(crawl_content.decode('utf8'))\n",
    "json_content['rating']['average']"
   ]
  },
  {
   "cell_type": "code",
   "execution_count": 4,
   "metadata": {
    "collapsed": true
   },
   "outputs": [],
   "source": [
    "id = '26387939'\n",
    "rank = json_content['rating']['average']\n",
    "with open('douban_movie_rank.txt', 'w') as output:\n",
    "    output.write(\"{} {}\".format(id, rank))"
   ]
  },
  {
   "cell_type": "markdown",
   "metadata": {},
   "source": [
    "## To get multiple data"
   ]
  },
  {
   "cell_type": "code",
   "execution_count": 7,
   "metadata": {},
   "outputs": [],
   "source": [
    "id_list = [26387939, 11803087, 20451290]\n",
    "\n",
    "with open('douban_movie_rating.txt', 'w') as output:\n",
    "    for id in id_list:\n",
    "        url = 'https://api.douban.com/v2/movie/{}'.format(id)\n",
    "        crawl_content = urlrequest.urlopen(url).read()\n",
    "        json_content = json.loads(crawl_content.decode('utf8'))\n",
    "        \n",
    "        rank = json_content['rating']['average']\n",
    "        output.write(\"{} {}\\n\".format(id, rank))"
   ]
  },
  {
   "cell_type": "markdown",
   "metadata": {},
   "source": [
    "# Using BeautifulSoup to get infro from html"
   ]
  },
  {
   "cell_type": "markdown",
   "metadata": {},
   "source": [
    "## Example"
   ]
  },
  {
   "cell_type": "code",
   "execution_count": 8,
   "metadata": {
    "collapsed": true
   },
   "outputs": [],
   "source": [
    "from bs4 import BeautifulSoup"
   ]
  },
  {
   "cell_type": "code",
   "execution_count": 11,
   "metadata": {},
   "outputs": [
    {
     "data": {
      "text/plain": [
       "' <html><head><title>The Dormouse\\'s story</title></head> <body> <p class=\"title\"><b>The Dormouse\\'s story</b></p> <p class=\"story\">Once upon a time there were three little sisters; and their names were <a href=\"http://example.com/elsie\" class=\"sister\" id=\"link1\">Elsie</a>, <a href=\"http://example.com/lacie\" class=\"sister\" id=\"link2\">Lacie</a> and <a href=\"http://example.com/tillie\" class=\"sister\" id=\"link3\">Tillie</a>; and they lived at the bottom of a well.</p> <p class=\"story\">...</p> '"
      ]
     },
     "execution_count": 11,
     "metadata": {},
     "output_type": "execute_result"
    }
   ],
   "source": [
    "html = \"\"\" <html><head><title>The Dormouse's story</title></head> <body> <p class=\"title\"><b>The Dormouse's story</b></p> <p class=\"story\">Once upon a time there were three little sisters; and their names were <a href=\"http://example.com/elsie\" class=\"sister\" id=\"link1\">Elsie</a>, <a href=\"http://example.com/lacie\" class=\"sister\" id=\"link2\">Lacie</a> and <a href=\"http://example.com/tillie\" class=\"sister\" id=\"link3\">Tillie</a>; and they lived at the bottom of a well.</p> <p class=\"story\">...</p> \"\"\"\n",
    "html"
   ]
  },
  {
   "cell_type": "code",
   "execution_count": 13,
   "metadata": {},
   "outputs": [
    {
     "data": {
      "text/plain": [
       " <html><head><title>The Dormouse's story</title></head> <body> <p class=\"title\"><b>The Dormouse's story</b></p> <p class=\"story\">Once upon a time there were three little sisters; and their names were <a class=\"sister\" href=\"http://example.com/elsie\" id=\"link1\">Elsie</a>, <a class=\"sister\" href=\"http://example.com/lacie\" id=\"link2\">Lacie</a> and <a class=\"sister\" href=\"http://example.com/tillie\" id=\"link3\">Tillie</a>; and they lived at the bottom of a well.</p> <p class=\"story\">...</p> </body></html>"
      ]
     },
     "execution_count": 13,
     "metadata": {},
     "output_type": "execute_result"
    }
   ],
   "source": [
    "soup = BeautifulSoup(html, 'html.parser')\n",
    "soup"
   ]
  },
  {
   "cell_type": "code",
   "execution_count": 14,
   "metadata": {},
   "outputs": [
    {
     "name": "stdout",
     "output_type": "stream",
     "text": [
      "<html>\n",
      " <head>\n",
      "  <title>\n",
      "   The Dormouse's story\n",
      "  </title>\n",
      " </head>\n",
      " <body>\n",
      "  <p class=\"title\">\n",
      "   <b>\n",
      "    The Dormouse's story\n",
      "   </b>\n",
      "  </p>\n",
      "  <p class=\"story\">\n",
      "   Once upon a time there were three little sisters; and their names were\n",
      "   <a class=\"sister\" href=\"http://example.com/elsie\" id=\"link1\">\n",
      "    Elsie\n",
      "   </a>\n",
      "   ,\n",
      "   <a class=\"sister\" href=\"http://example.com/lacie\" id=\"link2\">\n",
      "    Lacie\n",
      "   </a>\n",
      "   and\n",
      "   <a class=\"sister\" href=\"http://example.com/tillie\" id=\"link3\">\n",
      "    Tillie\n",
      "   </a>\n",
      "   ; and they lived at the bottom of a well.\n",
      "  </p>\n",
      "  <p class=\"story\">\n",
      "   ...\n",
      "  </p>\n",
      " </body>\n",
      "</html>\n"
     ]
    }
   ],
   "source": [
    "print(soup.prettify())"
   ]
  },
  {
   "cell_type": "code",
   "execution_count": 15,
   "metadata": {},
   "outputs": [
    {
     "data": {
      "text/plain": [
       "<title>The Dormouse's story</title>"
      ]
     },
     "execution_count": 15,
     "metadata": {},
     "output_type": "execute_result"
    }
   ],
   "source": [
    "soup.title"
   ]
  },
  {
   "cell_type": "code",
   "execution_count": 16,
   "metadata": {},
   "outputs": [
    {
     "data": {
      "text/plain": [
       "\"The Dormouse's story\""
      ]
     },
     "execution_count": 16,
     "metadata": {},
     "output_type": "execute_result"
    }
   ],
   "source": [
    "soup.title.text"
   ]
  },
  {
   "cell_type": "code",
   "execution_count": 17,
   "metadata": {},
   "outputs": [
    {
     "data": {
      "text/plain": [
       "'title'"
      ]
     },
     "execution_count": 17,
     "metadata": {},
     "output_type": "execute_result"
    }
   ],
   "source": [
    "soup.title.name"
   ]
  },
  {
   "cell_type": "code",
   "execution_count": 18,
   "metadata": {},
   "outputs": [
    {
     "data": {
      "text/plain": [
       "\"The Dormouse's story\""
      ]
     },
     "execution_count": 18,
     "metadata": {},
     "output_type": "execute_result"
    }
   ],
   "source": [
    "soup.title.string"
   ]
  },
  {
   "cell_type": "code",
   "execution_count": 19,
   "metadata": {},
   "outputs": [
    {
     "data": {
      "text/plain": [
       "[<a class=\"sister\" href=\"http://example.com/elsie\" id=\"link1\">Elsie</a>,\n",
       " <a class=\"sister\" href=\"http://example.com/lacie\" id=\"link2\">Lacie</a>,\n",
       " <a class=\"sister\" href=\"http://example.com/tillie\" id=\"link3\">Tillie</a>]"
      ]
     },
     "execution_count": 19,
     "metadata": {},
     "output_type": "execute_result"
    }
   ],
   "source": [
    "soup.find_all('a')"
   ]
  },
  {
   "cell_type": "code",
   "execution_count": 20,
   "metadata": {},
   "outputs": [
    {
     "data": {
      "text/plain": [
       "<a class=\"sister\" href=\"http://example.com/elsie\" id=\"link1\">Elsie</a>"
      ]
     },
     "execution_count": 20,
     "metadata": {},
     "output_type": "execute_result"
    }
   ],
   "source": [
    "soup.find_all('a')[0]"
   ]
  },
  {
   "cell_type": "code",
   "execution_count": 21,
   "metadata": {},
   "outputs": [
    {
     "data": {
      "text/plain": [
       "<a class=\"sister\" href=\"http://example.com/lacie\" id=\"link2\">Lacie</a>"
      ]
     },
     "execution_count": 21,
     "metadata": {},
     "output_type": "execute_result"
    }
   ],
   "source": [
    "soup.find(id='link2')"
   ]
  },
  {
   "cell_type": "markdown",
   "metadata": {},
   "source": [
    "## Get weather data from gorecast.weather.gov"
   ]
  },
  {
   "cell_type": "code",
   "execution_count": 22,
   "metadata": {
    "collapsed": true
   },
   "outputs": [],
   "source": [
    "import requests"
   ]
  },
  {
   "cell_type": "code",
   "execution_count": 23,
   "metadata": {
    "collapsed": true
   },
   "outputs": [],
   "source": [
    "url = 'http://forecast.weather.gov/MapClick.php?textField1=41.9&textField2=-87.62'"
   ]
  },
  {
   "cell_type": "code",
   "execution_count": 58,
   "metadata": {},
   "outputs": [],
   "source": [
    "def get_html_text(url):\n",
    "\n",
    "    try: \n",
    "        r = requests.get(url)\n",
    "        r.raise_for_status()\n",
    "        r.encoding = r.apparent_encoding\n",
    "        return r.text\n",
    "    except:\n",
    "        return 'Error'"
   ]
  },
  {
   "cell_type": "code",
   "execution_count": 59,
   "metadata": {},
   "outputs": [],
   "source": [
    "c = get_html_text(url)"
   ]
  },
  {
   "cell_type": "code",
   "execution_count": 63,
   "metadata": {},
   "outputs": [
    {
     "data": {
      "text/plain": [
       "<div id=\"seven-day-forecast-container\"><ul class=\"list-unstyled\" id=\"seven-day-forecast-list\"><li class=\"forecast-tombstone\">\n",
       "<div class=\"tombstone-container\">\n",
       "<p class=\"period-name\">Today<br/><br/></p>\n",
       "<p><img alt=\"Today: Sunny, with a high near 54. Southwest wind 5 to 10 mph, with gusts as high as 15 mph. \" class=\"forecast-icon\" src=\"newimages/medium/few.png\" title=\"Today: Sunny, with a high near 54. Southwest wind 5 to 10 mph, with gusts as high as 15 mph. \"/></p><p class=\"short-desc\">Sunny</p><p class=\"temp temp-high\">High: 54 °F</p></div></li><li class=\"forecast-tombstone\">\n",
       "<div class=\"tombstone-container\">\n",
       "<p class=\"period-name\">Tonight<br/><br/></p>\n",
       "<p><img alt=\"Tonight: Mostly clear, with a low around 36. West southwest wind around 5 mph becoming calm  after midnight. Winds could gust as high as 10 mph. \" class=\"forecast-icon\" src=\"newimages/medium/nfew.png\" title=\"Tonight: Mostly clear, with a low around 36. West southwest wind around 5 mph becoming calm  after midnight. Winds could gust as high as 10 mph. \"/></p><p class=\"short-desc\">Mostly Clear</p><p class=\"temp temp-low\">Low: 36 °F</p></div></li><li class=\"forecast-tombstone\">\n",
       "<div class=\"tombstone-container\">\n",
       "<p class=\"period-name\">Sunday<br/><br/></p>\n",
       "<p><img alt=\"Sunday: Sunny, with a high near 53. Light and variable wind becoming south southeast 5 to 10 mph in the morning. Winds could gust as high as 20 mph. \" class=\"forecast-icon\" src=\"newimages/medium/few.png\" title=\"Sunday: Sunny, with a high near 53. Light and variable wind becoming south southeast 5 to 10 mph in the morning. Winds could gust as high as 20 mph. \"/></p><p class=\"short-desc\">Sunny</p><p class=\"temp temp-high\">High: 53 °F</p></div></li><li class=\"forecast-tombstone\">\n",
       "<div class=\"tombstone-container\">\n",
       "<p class=\"period-name\">Sunday<br/>Night</p>\n",
       "<p><img alt=\"Sunday Night: A 30 percent chance of showers after midnight.  Increasing clouds, with a low around 47. Breezy, with a south wind 15 to 20 mph, with gusts as high as 30 mph. \" class=\"forecast-icon\" src=\"DualImage.php?i=nsct&amp;j=nshra&amp;jp=30\" title=\"Sunday Night: A 30 percent chance of showers after midnight.  Increasing clouds, with a low around 47. Breezy, with a south wind 15 to 20 mph, with gusts as high as 30 mph. \"/></p><p class=\"short-desc\">Partly Cloudy<br/>then Chance<br/>Showers and<br/>Breezy</p><p class=\"temp temp-low\">Low: 47 °F</p></div></li><li class=\"forecast-tombstone\">\n",
       "<div class=\"tombstone-container\">\n",
       "<p class=\"period-name\">Monday<br/><br/></p>\n",
       "<p><img alt=\"Monday: A 40 percent chance of showers.  Cloudy, with a high near 60. Breezy, with a south wind around 20 mph, with gusts as high as 35 mph. \" class=\"forecast-icon\" src=\"newimages/medium/shra40.png\" title=\"Monday: A 40 percent chance of showers.  Cloudy, with a high near 60. Breezy, with a south wind around 20 mph, with gusts as high as 35 mph. \"/></p><p class=\"short-desc\">Chance<br/>Showers and<br/>Breezy</p><p class=\"temp temp-high\">High: 60 °F</p></div></li><li class=\"forecast-tombstone\">\n",
       "<div class=\"tombstone-container\">\n",
       "<p class=\"period-name\">Monday<br/>Night</p>\n",
       "<p><img alt=\"Monday Night: Showers and possibly a thunderstorm before midnight, then a chance of showers between midnight and 3am.  Low around 38. Breezy.  Chance of precipitation is 90%.\" class=\"forecast-icon\" src=\"DualImage.php?i=nshra&amp;j=nshra&amp;ip=90&amp;jp=50\" title=\"Monday Night: Showers and possibly a thunderstorm before midnight, then a chance of showers between midnight and 3am.  Low around 38. Breezy.  Chance of precipitation is 90%.\"/></p><p class=\"short-desc\">Breezy.<br/>Showers then<br/>Chance<br/>Showers</p><p class=\"temp temp-low\">Low: 38 °F</p></div></li><li class=\"forecast-tombstone\">\n",
       "<div class=\"tombstone-container\">\n",
       "<p class=\"period-name\">Tuesday<br/><br/></p>\n",
       "<p><img alt=\"Tuesday: Mostly sunny, with a high near 39. Breezy. \" class=\"forecast-icon\" src=\"newimages/medium/wind_sct.png\" title=\"Tuesday: Mostly sunny, with a high near 39. Breezy. \"/></p><p class=\"short-desc\">Mostly Sunny<br/>and Breezy</p><p class=\"temp temp-high\">High: 39 °F</p></div></li><li class=\"forecast-tombstone\">\n",
       "<div class=\"tombstone-container\">\n",
       "<p class=\"period-name\">Tuesday<br/>Night</p>\n",
       "<p><img alt=\"Tuesday Night: Partly cloudy, with a low around 23. Breezy. \" class=\"forecast-icon\" src=\"DualImage.php?i=nwind_sct&amp;j=nsct\" title=\"Tuesday Night: Partly cloudy, with a low around 23. Breezy. \"/></p><p class=\"short-desc\">Partly Cloudy<br/>and Breezy<br/>then Partly<br/>Cloudy</p><p class=\"temp temp-low\">Low: 23 °F</p></div></li><li class=\"forecast-tombstone\">\n",
       "<div class=\"tombstone-container\">\n",
       "<p class=\"period-name\">Wednesday<br/><br/></p>\n",
       "<p><img alt=\"Wednesday: Mostly sunny, with a high near 29.\" class=\"forecast-icon\" src=\"newimages/medium/sct.png\" title=\"Wednesday: Mostly sunny, with a high near 29.\"/></p><p class=\"short-desc\">Mostly Sunny</p><p class=\"temp temp-high\">High: 29 °F</p></div></li></ul></div>"
      ]
     },
     "execution_count": 63,
     "metadata": {},
     "output_type": "execute_result"
    }
   ],
   "source": [
    "soup = BeautifulSoup(c, 'html.parser')\n",
    "soup.find(id='seven-day-forecast-container')"
   ]
  },
  {
   "cell_type": "code",
   "execution_count": 66,
   "metadata": {},
   "outputs": [
    {
     "name": "stdout",
     "output_type": "stream",
     "text": [
      "\n",
      "\n",
      "Today\n",
      "SunnyHigh: 54 °F\n",
      "\n",
      "Tonight\n",
      "Mostly ClearLow: 36 °F\n",
      "\n",
      "Sunday\n",
      "SunnyHigh: 53 °F\n",
      "\n",
      "SundayNight\n",
      "Partly Cloudythen ChanceShowers andBreezyLow: 47 °F\n",
      "\n",
      "Monday\n",
      "ChanceShowers andBreezyHigh: 60 °F\n",
      "\n",
      "MondayNight\n",
      "Breezy.Showers thenChanceShowersLow: 38 °F\n",
      "\n",
      "Tuesday\n",
      "Mostly Sunnyand BreezyHigh: 39 °F\n",
      "\n",
      "TuesdayNight\n",
      "Partly Cloudyand Breezythen PartlyCloudyLow: 23 °F\n",
      "\n",
      "Wednesday\n",
      "Mostly SunnyHigh: 29 °F\n"
     ]
    }
   ],
   "source": [
    "print(soup.find(id='seven-day-forecast-container').get_text())"
   ]
  },
  {
   "cell_type": "code",
   "execution_count": 70,
   "metadata": {},
   "outputs": [
    {
     "name": "stdout",
     "output_type": "stream",
     "text": [
      "<div id=\"seven-day-forecast-container\">\n",
      " <ul class=\"list-unstyled\" id=\"seven-day-forecast-list\">\n",
      "  <li class=\"forecast-tombstone\">\n",
      "   <div class=\"tombstone-container\">\n",
      "    <p class=\"period-name\">\n",
      "     Today\n",
      "     <br/>\n",
      "     <br/>\n",
      "    </p>\n",
      "    <p>\n",
      "     <img alt=\"Today: Sunny, with a high near 54. Southwest wind 5 to 10 mph, with gusts as high as 15 mph. \" class=\"forecast-icon\" src=\"newimages/medium/few.png\" title=\"Today: Sunny, with a high near 54. Southwest wind 5 to 10 mph, with gusts as high as 15 mph. \"/>\n",
      "    </p>\n",
      "    <p class=\"short-desc\">\n",
      "     Sunny\n",
      "    </p>\n",
      "    <p class=\"temp temp-high\">\n",
      "     High: 54 °F\n",
      "    </p>\n",
      "   </div>\n",
      "  </li>\n",
      "  <li class=\"forecast-tombstone\">\n",
      "   <div class=\"tombstone-container\">\n",
      "    <p class=\"period-name\">\n",
      "     Tonight\n",
      "     <br/>\n",
      "     <br/>\n",
      "    </p>\n",
      "    <p>\n",
      "     <img alt=\"Tonight: Mostly clear, with a low around 36. West southwest wind around 5 mph becoming calm  after midnight. Winds could gust as high as 10 mph. \" class=\"forecast-icon\" src=\"newimages/medium/nfew.png\" title=\"Tonight: Mostly clear, with a low around 36. West southwest wind around 5 mph becoming calm  after midnight. Winds could gust as high as 10 mph. \"/>\n",
      "    </p>\n",
      "    <p class=\"short-desc\">\n",
      "     Mostly Clear\n",
      "    </p>\n",
      "    <p class=\"temp temp-low\">\n",
      "     Low: 36 °F\n",
      "    </p>\n",
      "   </div>\n",
      "  </li>\n",
      "  <li class=\"forecast-tombstone\">\n",
      "   <div class=\"tombstone-container\">\n",
      "    <p class=\"period-name\">\n",
      "     Sunday\n",
      "     <br/>\n",
      "     <br/>\n",
      "    </p>\n",
      "    <p>\n",
      "     <img alt=\"Sunday: Sunny, with a high near 53. Light and variable wind becoming south southeast 5 to 10 mph in the morning. Winds could gust as high as 20 mph. \" class=\"forecast-icon\" src=\"newimages/medium/few.png\" title=\"Sunday: Sunny, with a high near 53. Light and variable wind becoming south southeast 5 to 10 mph in the morning. Winds could gust as high as 20 mph. \"/>\n",
      "    </p>\n",
      "    <p class=\"short-desc\">\n",
      "     Sunny\n",
      "    </p>\n",
      "    <p class=\"temp temp-high\">\n",
      "     High: 53 °F\n",
      "    </p>\n",
      "   </div>\n",
      "  </li>\n",
      "  <li class=\"forecast-tombstone\">\n",
      "   <div class=\"tombstone-container\">\n",
      "    <p class=\"period-name\">\n",
      "     Sunday\n",
      "     <br/>\n",
      "     Night\n",
      "    </p>\n",
      "    <p>\n",
      "     <img alt=\"Sunday Night: A 30 percent chance of showers after midnight.  Increasing clouds, with a low around 47. Breezy, with a south wind 15 to 20 mph, with gusts as high as 30 mph. \" class=\"forecast-icon\" src=\"DualImage.php?i=nsct&amp;j=nshra&amp;jp=30\" title=\"Sunday Night: A 30 percent chance of showers after midnight.  Increasing clouds, with a low around 47. Breezy, with a south wind 15 to 20 mph, with gusts as high as 30 mph. \"/>\n",
      "    </p>\n",
      "    <p class=\"short-desc\">\n",
      "     Partly Cloudy\n",
      "     <br/>\n",
      "     then Chance\n",
      "     <br/>\n",
      "     Showers and\n",
      "     <br/>\n",
      "     Breezy\n",
      "    </p>\n",
      "    <p class=\"temp temp-low\">\n",
      "     Low: 47 °F\n",
      "    </p>\n",
      "   </div>\n",
      "  </li>\n",
      "  <li class=\"forecast-tombstone\">\n",
      "   <div class=\"tombstone-container\">\n",
      "    <p class=\"period-name\">\n",
      "     Monday\n",
      "     <br/>\n",
      "     <br/>\n",
      "    </p>\n",
      "    <p>\n",
      "     <img alt=\"Monday: A 40 percent chance of showers.  Cloudy, with a high near 60. Breezy, with a south wind around 20 mph, with gusts as high as 35 mph. \" class=\"forecast-icon\" src=\"newimages/medium/shra40.png\" title=\"Monday: A 40 percent chance of showers.  Cloudy, with a high near 60. Breezy, with a south wind around 20 mph, with gusts as high as 35 mph. \"/>\n",
      "    </p>\n",
      "    <p class=\"short-desc\">\n",
      "     Chance\n",
      "     <br/>\n",
      "     Showers and\n",
      "     <br/>\n",
      "     Breezy\n",
      "    </p>\n",
      "    <p class=\"temp temp-high\">\n",
      "     High: 60 °F\n",
      "    </p>\n",
      "   </div>\n",
      "  </li>\n",
      "  <li class=\"forecast-tombstone\">\n",
      "   <div class=\"tombstone-container\">\n",
      "    <p class=\"period-name\">\n",
      "     Monday\n",
      "     <br/>\n",
      "     Night\n",
      "    </p>\n",
      "    <p>\n",
      "     <img alt=\"Monday Night: Showers and possibly a thunderstorm before midnight, then a chance of showers between midnight and 3am.  Low around 38. Breezy.  Chance of precipitation is 90%.\" class=\"forecast-icon\" src=\"DualImage.php?i=nshra&amp;j=nshra&amp;ip=90&amp;jp=50\" title=\"Monday Night: Showers and possibly a thunderstorm before midnight, then a chance of showers between midnight and 3am.  Low around 38. Breezy.  Chance of precipitation is 90%.\"/>\n",
      "    </p>\n",
      "    <p class=\"short-desc\">\n",
      "     Breezy.\n",
      "     <br/>\n",
      "     Showers then\n",
      "     <br/>\n",
      "     Chance\n",
      "     <br/>\n",
      "     Showers\n",
      "    </p>\n",
      "    <p class=\"temp temp-low\">\n",
      "     Low: 38 °F\n",
      "    </p>\n",
      "   </div>\n",
      "  </li>\n",
      "  <li class=\"forecast-tombstone\">\n",
      "   <div class=\"tombstone-container\">\n",
      "    <p class=\"period-name\">\n",
      "     Tuesday\n",
      "     <br/>\n",
      "     <br/>\n",
      "    </p>\n",
      "    <p>\n",
      "     <img alt=\"Tuesday: Mostly sunny, with a high near 39. Breezy. \" class=\"forecast-icon\" src=\"newimages/medium/wind_sct.png\" title=\"Tuesday: Mostly sunny, with a high near 39. Breezy. \"/>\n",
      "    </p>\n",
      "    <p class=\"short-desc\">\n",
      "     Mostly Sunny\n",
      "     <br/>\n",
      "     and Breezy\n",
      "    </p>\n",
      "    <p class=\"temp temp-high\">\n",
      "     High: 39 °F\n",
      "    </p>\n",
      "   </div>\n",
      "  </li>\n",
      "  <li class=\"forecast-tombstone\">\n",
      "   <div class=\"tombstone-container\">\n",
      "    <p class=\"period-name\">\n",
      "     Tuesday\n",
      "     <br/>\n",
      "     Night\n",
      "    </p>\n",
      "    <p>\n",
      "     <img alt=\"Tuesday Night: Partly cloudy, with a low around 23. Breezy. \" class=\"forecast-icon\" src=\"DualImage.php?i=nwind_sct&amp;j=nsct\" title=\"Tuesday Night: Partly cloudy, with a low around 23. Breezy. \"/>\n",
      "    </p>\n",
      "    <p class=\"short-desc\">\n",
      "     Partly Cloudy\n",
      "     <br/>\n",
      "     and Breezy\n",
      "     <br/>\n",
      "     then Partly\n",
      "     <br/>\n",
      "     Cloudy\n",
      "    </p>\n",
      "    <p class=\"temp temp-low\">\n",
      "     Low: 23 °F\n",
      "    </p>\n",
      "   </div>\n",
      "  </li>\n",
      "  <li class=\"forecast-tombstone\">\n",
      "   <div class=\"tombstone-container\">\n",
      "    <p class=\"period-name\">\n",
      "     Wednesday\n",
      "     <br/>\n",
      "     <br/>\n",
      "    </p>\n",
      "    <p>\n",
      "     <img alt=\"Wednesday: Mostly sunny, with a high near 29.\" class=\"forecast-icon\" src=\"newimages/medium/sct.png\" title=\"Wednesday: Mostly sunny, with a high near 29.\"/>\n",
      "    </p>\n",
      "    <p class=\"short-desc\">\n",
      "     Mostly Sunny\n",
      "    </p>\n",
      "    <p class=\"temp temp-high\">\n",
      "     High: 29 °F\n",
      "    </p>\n",
      "   </div>\n",
      "  </li>\n",
      " </ul>\n",
      "</div>\n",
      "\n"
     ]
    }
   ],
   "source": [
    "print(soup.find(id='seven-day-forecast-container').prettify())"
   ]
  },
  {
   "cell_type": "code",
   "execution_count": 67,
   "metadata": {},
   "outputs": [
    {
     "data": {
      "text/plain": [
       "['',\n",
       " '',\n",
       " 'Today',\n",
       " 'SunnyHigh: 54 °F',\n",
       " '',\n",
       " 'Tonight',\n",
       " 'Mostly ClearLow: 36 °F',\n",
       " '',\n",
       " 'Sunday',\n",
       " 'SunnyHigh: 53 °F',\n",
       " '',\n",
       " 'SundayNight',\n",
       " 'Partly Cloudythen ChanceShowers andBreezyLow: 47 °F',\n",
       " '',\n",
       " 'Monday',\n",
       " 'ChanceShowers andBreezyHigh: 60 °F',\n",
       " '',\n",
       " 'MondayNight',\n",
       " 'Breezy.Showers thenChanceShowersLow: 38 °F',\n",
       " '',\n",
       " 'Tuesday',\n",
       " 'Mostly Sunnyand BreezyHigh: 39 °F',\n",
       " '',\n",
       " 'TuesdayNight',\n",
       " 'Partly Cloudyand Breezythen PartlyCloudyLow: 23 °F',\n",
       " '',\n",
       " 'Wednesday',\n",
       " 'Mostly SunnyHigh: 29 °F']"
      ]
     },
     "execution_count": 67,
     "metadata": {},
     "output_type": "execute_result"
    }
   ],
   "source": [
    "forecast = soup.find(id='seven-day-forecast-container').get_text()\n",
    "forecast.split('\\n')"
   ]
  },
  {
   "cell_type": "code",
   "execution_count": 78,
   "metadata": {},
   "outputs": [
    {
     "data": {
      "text/plain": [
       "[<p class=\"period-name\">Today<br/><br/></p>,\n",
       " <p class=\"period-name\">Tonight<br/><br/></p>,\n",
       " <p class=\"period-name\">Sunday<br/><br/></p>,\n",
       " <p class=\"period-name\">Sunday<br/>Night</p>,\n",
       " <p class=\"period-name\">Monday<br/><br/></p>,\n",
       " <p class=\"period-name\">Monday<br/>Night</p>,\n",
       " <p class=\"period-name\">Tuesday<br/><br/></p>,\n",
       " <p class=\"period-name\">Tuesday<br/>Night</p>,\n",
       " <p class=\"period-name\">Wednesday<br/><br/></p>]"
      ]
     },
     "execution_count": 78,
     "metadata": {},
     "output_type": "execute_result"
    }
   ],
   "source": [
    "forecast = soup.find(id='seven-day-forecast-container')\n",
    "forecast.find_all(class_='period-name')"
   ]
  },
  {
   "cell_type": "code",
   "execution_count": 81,
   "metadata": {},
   "outputs": [
    {
     "data": {
      "text/plain": [
       "[<p class=\"short-desc\">Sunny</p>,\n",
       " <p class=\"short-desc\">Mostly Clear</p>,\n",
       " <p class=\"short-desc\">Sunny</p>,\n",
       " <p class=\"short-desc\">Partly Cloudy<br/>then Chance<br/>Showers and<br/>Breezy</p>,\n",
       " <p class=\"short-desc\">Chance<br/>Showers and<br/>Breezy</p>,\n",
       " <p class=\"short-desc\">Breezy.<br/>Showers then<br/>Chance<br/>Showers</p>,\n",
       " <p class=\"short-desc\">Mostly Sunny<br/>and Breezy</p>,\n",
       " <p class=\"short-desc\">Partly Cloudy<br/>and Breezy<br/>then Partly<br/>Cloudy</p>,\n",
       " <p class=\"short-desc\">Mostly Sunny</p>]"
      ]
     },
     "execution_count": 81,
     "metadata": {},
     "output_type": "execute_result"
    }
   ],
   "source": [
    "forecast.find_all(class_='short-desc')"
   ]
  },
  {
   "cell_type": "code",
   "execution_count": 82,
   "metadata": {},
   "outputs": [
    {
     "data": {
      "text/plain": [
       "[<p class=\"temp temp-high\">High: 54 °F</p>,\n",
       " <p class=\"temp temp-low\">Low: 36 °F</p>,\n",
       " <p class=\"temp temp-high\">High: 53 °F</p>,\n",
       " <p class=\"temp temp-low\">Low: 47 °F</p>,\n",
       " <p class=\"temp temp-high\">High: 60 °F</p>,\n",
       " <p class=\"temp temp-low\">Low: 38 °F</p>,\n",
       " <p class=\"temp temp-high\">High: 39 °F</p>,\n",
       " <p class=\"temp temp-low\">Low: 23 °F</p>,\n",
       " <p class=\"temp temp-high\">High: 29 °F</p>]"
      ]
     },
     "execution_count": 82,
     "metadata": {},
     "output_type": "execute_result"
    }
   ],
   "source": [
    "forecast.find_all(class_='temp')"
   ]
  },
  {
   "cell_type": "code",
   "execution_count": 84,
   "metadata": {
    "collapsed": true
   },
   "outputs": [],
   "source": [
    "forecast = soup.find(id='seven-day-forecast-container')\n",
    "date_list = forecast.find_all(class_='period-name')\n",
    "desc_list = forecast.find_all(class_='short-desc')\n",
    "temp_list = forecast.find_all(class_='temp')"
   ]
  },
  {
   "cell_type": "code",
   "execution_count": 104,
   "metadata": {},
   "outputs": [
    {
     "data": {
      "text/plain": [
       "'Today'"
      ]
     },
     "execution_count": 104,
     "metadata": {},
     "output_type": "execute_result"
    }
   ],
   "source": [
    "date_list[0].text"
   ]
  },
  {
   "cell_type": "code",
   "execution_count": 108,
   "metadata": {},
   "outputs": [
    {
     "name": "stdout",
     "output_type": "stream",
     "text": [
      "Today Sunny High: 54 °F\n",
      "Tonight Mostly Clear Low: 36 °F\n",
      "Sunday Sunny High: 53 °F\n",
      "SundayNight Partly Cloudythen ChanceShowers andBreezy Low: 47 °F\n",
      "Monday ChanceShowers andBreezy High: 60 °F\n",
      "MondayNight Breezy.Showers thenChanceShowers Low: 38 °F\n",
      "Tuesday Mostly Sunnyand Breezy High: 39 °F\n",
      "TuesdayNight Partly Cloudyand Breezythen PartlyCloudy Low: 23 °F\n",
      "Wednesday Mostly Sunny High: 29 °F\n"
     ]
    }
   ],
   "source": [
    "for i in range(len(date_list)):\n",
    "    date = date_list[i].get_text()\n",
    "    desc = desc_list[i].get_text()\n",
    "    temp = temp_list[i].get_text()\n",
    "    print(\"{} {} {}\".format(date, desc, temp))"
   ]
  },
  {
   "cell_type": "code",
   "execution_count": null,
   "metadata": {
    "collapsed": true
   },
   "outputs": [],
   "source": []
  }
 ],
 "metadata": {
  "kernelspec": {
   "display_name": "Python [default]",
   "language": "python",
   "name": "python3"
  },
  "language_info": {
   "codemirror_mode": {
    "name": "ipython",
    "version": 3
   },
   "file_extension": ".py",
   "mimetype": "text/x-python",
   "name": "python",
   "nbconvert_exporter": "python",
   "pygments_lexer": "ipython3",
   "version": "3.5.3"
  }
 },
 "nbformat": 4,
 "nbformat_minor": 2
}
