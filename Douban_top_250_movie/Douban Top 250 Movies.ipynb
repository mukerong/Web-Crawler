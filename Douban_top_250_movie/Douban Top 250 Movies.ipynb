{
 "cells": [
  {
   "cell_type": "code",
   "execution_count": 1,
   "metadata": {
    "collapsed": true
   },
   "outputs": [],
   "source": [
    "import requests\n",
    "from bs4 import BeautifulSoup"
   ]
  },
  {
   "cell_type": "code",
   "execution_count": 25,
   "metadata": {},
   "outputs": [],
   "source": [
    "top250_url = \"https://movie.douban.com/top250?start={}&fileter=\"\n",
    "\n",
    "with open('douban_250_movie.txt', 'w') as output:\n",
    "    for i in range(10):\n",
    "        start = i * 25\n",
    "        url = top250_url.format(start)\n",
    "        try:\n",
    "            r = requests.get(url)\n",
    "            r.raise_for_status()\n",
    "            r.encoding = r.apparent_encoding\n",
    "            c = r.text\n",
    "        except:\n",
    "            print(\"Error\")\n",
    "\n",
    "        soup = BeautifulSoup(c, 'html.parser')\n",
    "\n",
    "        all_item_divs = soup.find_all(class_='item')\n",
    "\n",
    "        for item in all_item_divs:\n",
    "            pic_div = item.find(class_='pic')\n",
    "            href = pic_div.find('a')['href']\n",
    "            name = pic_div.find('img')['alt']\n",
    "            output.write(\"{} {}\\n\".format(href, name))"
   ]
  },
  {
   "cell_type": "code",
   "execution_count": null,
   "metadata": {
    "collapsed": true
   },
   "outputs": [],
   "source": []
  }
 ],
 "metadata": {
  "kernelspec": {
   "display_name": "Python [default]",
   "language": "python",
   "name": "python3"
  },
  "language_info": {
   "codemirror_mode": {
    "name": "ipython",
    "version": 3
   },
   "file_extension": ".py",
   "mimetype": "text/x-python",
   "name": "python",
   "nbconvert_exporter": "python",
   "pygments_lexer": "ipython3",
   "version": "3.5.3"
  }
 },
 "nbformat": 4,
 "nbformat_minor": 2
}
