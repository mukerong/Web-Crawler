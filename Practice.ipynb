{
 "cells": [
  {
   "cell_type": "code",
   "execution_count": 1,
   "metadata": {
    "collapsed": true
   },
   "outputs": [],
   "source": [
    "import urllib.request as urlrequest"
   ]
  },
  {
   "cell_type": "code",
   "execution_count": 2,
   "metadata": {},
   "outputs": [
    {
     "name": "stdout",
     "output_type": "stream",
     "text": [
      "{\"rating\": {\"max\": 10, \"average\": \"9.1\", \"numRaters\": 418652, \"min\": 0}, \"author\": [{\"name\": \"涅提·蒂瓦里 Nitesh Tiwari\"}], \"alt_title\": \"摔跤吧！爸爸 \\/ 我和我的冠军女儿(台)\", \"image\": \"https://img3.doubanio.com\\/view\\/photo\\/s_ratio_poster\\/public\\/p2457983084.jpg\", \"title\": \"Dangal\", \"summary\": \"马哈维亚（阿米尔·汗 Aamir Khan 饰）曾经是一名前途无量的摔跤运动员，在放弃了职业生涯后，他最大的遗憾就是没有能够替国家赢得金牌。马哈维亚将这份希望寄托在了尚未出生的儿子身上，哪知道妻子接连给他生了两个女儿，取名吉塔（法缇玛·萨那·纱卡 Fatima Sana Shaikh 饰）和巴比塔（桑亚·玛荷塔 Sanya Malhotra 饰）。让马哈维亚没有想到的是，两个姑娘展现出了杰出的摔跤天赋，让他幡然醒悟，就算是女孩，也能够昂首挺胸的站在比赛场上，为了国家和她们自己赢得荣誉。\n",
      "就这样，在马哈维亚的指导下，吉塔和巴比塔开始了艰苦的训练，两人进步神速，很快就因为在比赛中连连获胜而成为了当地的名人。为了获得更多的机会，吉塔进入了国家体育学院学习，在那里，她将面对更大的诱惑和更多的选择。\", \"attrs\": {\"language\": [\"印地语\"], \"pubdate\": [\"2016-12-23(印度)\", \"2017-05-05(中国大陆)\"], \"title\": [\"Dangal\"], \"country\": [\"印度\"], \"writer\": [\"比于什·古普塔 Piyush Gupta\", \"施热亚·简 Shreyas Jain\"], \"director\": [\"涅提·蒂瓦里 Nitesh Tiwari\"], \"cast\": [\"阿米尔·汗 Aamir Khan\", \"法缇玛·萨那·纱卡 Fatima Sana Shaikh\", \"桑亚·玛荷塔 Sanya Malhotra\", \"阿帕尔夏克提·库拉那 Aparshakti Khurana\", \"沙克希·坦沃 Sakshi Tanwar\", \"泽伊拉·沃西姆 Zaira Wasim\", \"苏哈妮·巴特纳格尔 Suhani Bhatnagar\", \"里特维克·萨霍里 Ritwik Sahore\", \"吉里什·库卡尼 Girish Kulkarni\"], \"movie_duration\": [\"161分钟(印度)\", \"140分钟(中国大陆)\"], \"year\": [\"2016\"], \"movie_type\": [\"剧情\", \"传记\", \"运动\"]}, \"id\": \"https:\\/\\/api.douban.com\\/movie\\/26387939\", \"mobile_link\": \"https:\\/\\/m.douban.com\\/movie\\/subject\\/26387939\\/\", \"alt\": \"https:\\/\\/movie.douban.com\\/movie\\/26387939\", \"tags\": [{\"count\": 96413, \"name\": \"励志\"}, {\"count\": 88117, \"name\": \"印度\"}, {\"count\": 58436, \"name\": \"成长\"}, {\"count\": 55145, \"name\": \"亲情\"}, {\"count\": 45168, \"name\": \"体育\"}, {\"count\": 44037, \"name\": \"女权\"}, {\"count\": 40584, \"name\": \"女性\"}, {\"count\": 39067, \"name\": \"运动\"}]}\n"
     ]
    }
   ],
   "source": [
    "url_visit = 'https://api.douban.com/v2/movie/26387939'\n",
    "crawl_content = urlrequest.urlopen(url_visit).read()\n",
    "print(crawl_content.decode('unicode-escape'))"
   ]
  },
  {
   "cell_type": "code",
   "execution_count": 3,
   "metadata": {},
   "outputs": [
    {
     "data": {
      "text/plain": [
       "'9.1'"
      ]
     },
     "execution_count": 3,
     "metadata": {},
     "output_type": "execute_result"
    }
   ],
   "source": [
    "import json\n",
    "json_content = json.loads(crawl_content.decode('utf8'))\n",
    "json_content['rating']['average']"
   ]
  },
  {
   "cell_type": "code",
   "execution_count": 4,
   "metadata": {
    "collapsed": true
   },
   "outputs": [],
   "source": [
    "id = '26387939'\n",
    "rank = json_content['rating']['average']\n",
    "with open('douban_movie_rank.txt', 'w') as output:\n",
    "    output.write(\"{} {}\".format(id, rank))"
   ]
  },
  {
   "cell_type": "code",
   "execution_count": null,
   "metadata": {
    "collapsed": true
   },
   "outputs": [],
   "source": []
  }
 ],
 "metadata": {
  "kernelspec": {
   "display_name": "Python [default]",
   "language": "python",
   "name": "python3"
  },
  "language_info": {
   "codemirror_mode": {
    "name": "ipython",
    "version": 3
   },
   "file_extension": ".py",
   "mimetype": "text/x-python",
   "name": "python",
   "nbconvert_exporter": "python",
   "pygments_lexer": "ipython3",
   "version": "3.5.3"
  }
 },
 "nbformat": 4,
 "nbformat_minor": 2
}
